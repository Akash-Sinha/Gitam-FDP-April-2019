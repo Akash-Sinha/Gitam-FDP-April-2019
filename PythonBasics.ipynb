{
 "cells": [
  {
   "cell_type": "markdown",
   "metadata": {},
   "source": [
    "# Python Basics"
   ]
  },
  {
   "cell_type": "code",
   "execution_count": 5,
   "metadata": {},
   "outputs": [
    {
     "name": "stdout",
     "output_type": "stream",
     "text": [
      "3.146   3.146   Hello\n"
     ]
    }
   ],
   "source": [
    "# defining a variable : In Python there is no need to mention the data type\n",
    "\n",
    "var1 = 10      # An integer assignment\n",
    "var2 = 3.146   # A floating point\n",
    "var3 = \"Hello\" # A string\n",
    "var1 = var2\n",
    "\n",
    "print(var1,' ',var2,' ',var3)"
   ]
  },
  {
   "cell_type": "markdown",
   "metadata": {},
   "source": [
    "## Assignment"
   ]
  },
  {
   "cell_type": "code",
   "execution_count": 11,
   "metadata": {},
   "outputs": [
    {
     "name": "stdout",
     "output_type": "stream",
     "text": [
      "Hello World!\n",
      "H\n",
      "llo\n",
      "llo World!\n",
      "He\n",
      "Hello World!Hello World!\n",
      "Hello World!TEST\n",
      "1123\n"
     ]
    }
   ],
   "source": [
    "# String operations\n",
    "\n",
    "str = 'Hello World!'  # A string\n",
    "\n",
    "print(str)          # Prints complete string\n",
    "print(str[0])       # Prints first character of the string\n",
    "print(str[2:5])     # Prints characters starting from 3rd to 5th element\n",
    "print(str[2:])      # Prints string starting from 3rd character\n",
    "print(str[:2])\n",
    "print(str * 2)      # Prints string two times\n",
    "print(str + \"TEST\") # Prints concatenated string\n",
    "var1 = 1123\n",
    "print(var1)"
   ]
  },
  {
   "cell_type": "code",
   "execution_count": 16,
   "metadata": {},
   "outputs": [
    {
     "name": "stdout",
     "output_type": "stream",
     "text": [
      "['abcd', 786, 2.23, 'john', 70.8]\n",
      "abcd\n",
      "(786, 2.23)\n",
      "['john', 70.8]\n"
     ]
    }
   ],
   "source": [
    "# Python Lists\n",
    "list1 = [ 'abcd', 786 , 2.23, 'john', 70.8 ]  # A list\n",
    "tuple = ( 'abcd', 786 , 2.23, 'john', 70.2  ) # A tuple. Tuples are immutable, i.e. cannot be edited later\n",
    "\n",
    "print(list1)            # Prints complete list\n",
    "print(list1[0])         # Prints first element of the list\n",
    "print(tuple[1:3]) # Prints elements starting from 2nd till 3rd \n",
    "print(list1[3:])"
   ]
  },
  {
   "cell_type": "code",
   "execution_count": 23,
   "metadata": {},
   "outputs": [
    {
     "name": "stdout",
     "output_type": "stream",
     "text": [
      "{'jack': 4098, 'sape': 4139, '3': 'Python', 'guido': 4127}\n",
      "4098\n",
      "{'jack': 4098, '3': 'Python', 'guido': 4127, 'irv': 4127}\n",
      "dict_keys(['jack', '3', 'guido', 'irv'])\n",
      "['3', 'guido', 'irv', 'jack']\n",
      "True\n",
      "True\n",
      "dict_values([4098, 'Python', 4127, 4127])\n"
     ]
    }
   ],
   "source": [
    "# Lists are ordered sets of objects, whereas dictionaries are unordered sets. But the main difference is that items in dictionaries are accessed via keys and not via their position.\n",
    "tel = {'jack': 4098, 'sape': 4139, '3':'Python'}\n",
    "tel['guido'] = 4127\n",
    "print(tel)\n",
    "print(tel['jack'])\n",
    "del tel['sape']\n",
    "tel['irv'] = 4127\n",
    "print(tel)\n",
    "print(tel.keys())\n",
    "print(sorted(tel.keys()))\n",
    "#print(sorted(tel.values()))\n",
    "print('guido' in tel)\n",
    "print('jack' in tel)\n",
    "print(tel.values())"
   ]
  },
  {
   "cell_type": "code",
   "execution_count": 5,
   "metadata": {},
   "outputs": [
    {
     "name": "stdout",
     "output_type": "stream",
     "text": [
      "0123456789Enter a number12345\n"
     ]
    }
   ],
   "source": [
    "for i in range(0,10):\n",
    "    print(i, end='')\n",
    "n = input(\"Enter a number\")"
   ]
  },
  {
   "cell_type": "code",
   "execution_count": 6,
   "metadata": {},
   "outputs": [
    {
     "name": "stdout",
     "output_type": "stream",
     "text": [
      "12345\n"
     ]
    }
   ],
   "source": [
    "print(n)"
   ]
  },
  {
   "cell_type": "code",
   "execution_count": null,
   "metadata": {},
   "outputs": [],
   "source": []
  }
 ],
 "metadata": {
  "kernelspec": {
   "display_name": "Python 3",
   "language": "python",
   "name": "python3"
  },
  "language_info": {
   "codemirror_mode": {
    "name": "ipython",
    "version": 3
   },
   "file_extension": ".py",
   "mimetype": "text/x-python",
   "name": "python",
   "nbconvert_exporter": "python",
   "pygments_lexer": "ipython3",
   "version": "3.6.5"
  }
 },
 "nbformat": 4,
 "nbformat_minor": 2
}
